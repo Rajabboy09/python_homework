{
 "cells": [
  {
   "cell_type": "code",
   "execution_count": 7,
   "metadata": {},
   "outputs": [
    {
     "name": "stdout",
     "output_type": "stream",
     "text": [
      "[1, 1, 3, 4]\n"
     ]
    }
   ],
   "source": [
    "#1.1\n",
    "list1 = [1, 1, 2]\n",
    "list2 = [2, 3, 4]\n",
    "output = []\n",
    "for i in list1:\n",
    "    if i not in list2:\n",
    "        output.append(i)\n",
    "for j in list2:\n",
    "    if j not in list1:\n",
    "        output.append(j)\n",
    "print(output)\n",
    "            "
   ]
  },
  {
   "cell_type": "code",
   "execution_count": 4,
   "metadata": {},
   "outputs": [
    {
     "name": "stdout",
     "output_type": "stream",
     "text": [
      "[1, 2, 3, 4, 5, 6, 7]\n"
     ]
    }
   ],
   "source": [
    "#1.2\n",
    "list1 = [1,2,3,4]\n",
    "list2 = [5,4,7,6]\n",
    "for i in list1:\n",
    "    if i not in list2:\n",
    "        list2.append(i)\n",
    "list2.sort()\n",
    "print(list2)"
   ]
  },
  {
   "cell_type": "code",
   "execution_count": 9,
   "metadata": {},
   "outputs": [
    {
     "name": "stdout",
     "output_type": "stream",
     "text": [
      "[2, 2, 5]\n"
     ]
    }
   ],
   "source": [
    "#1.3\n",
    "#1.1\n",
    "list1 = [1, 1, 2, 3, 4, 2]\n",
    "list2 = [1, 3, 4, 5]\n",
    "output = []\n",
    "for i in list1:\n",
    "    if i not in list2:\n",
    "        output.append(i)\n",
    "for j in list2:\n",
    "    if j not in list1:\n",
    "        output.append(j)\n",
    "print(output)"
   ]
  },
  {
   "cell_type": "code",
   "execution_count": 11,
   "metadata": {},
   "outputs": [
    {
     "name": "stdout",
     "output_type": "stream",
     "text": [
      "1\n",
      "4\n",
      "9\n",
      "16\n"
     ]
    }
   ],
   "source": [
    "#2\n",
    "num = int(input(\"Enter number: \"))\n",
    "i=1\n",
    "while i < num :\n",
    "    print(i**2)\n",
    "    i+=1"
   ]
  },
  {
   "cell_type": "code",
   "execution_count": 83,
   "metadata": {},
   "outputs": [
    {
     "name": "stdout",
     "output_type": "stream",
     "text": [
      "['a', 'b', 'c', '_', 'a', 'b', 'd', '_', 'd', 'a', 'b', '_', 'c', 'd', 'a', '_', 'a', 'b', 'd', '_', 'd', 'e', 'f', '_', 'a', 'b', 'd', '_', 'd', 'e', 'g', '_', 'g']\n"
     ]
    }
   ],
   "source": [
    "#3\n",
    "txt='abcabcdabcdeabcdefabcdefg'\n",
    "output = []\n",
    "used = []\n",
    "unli = ['a','e','i','o','u']"
   ]
  },
  {
   "cell_type": "code",
   "execution_count": null,
   "metadata": {},
   "outputs": [],
   "source": [
    "#4\n",
    "import random\n",
    "n = random.randint(1,101)\n",
    "restart = ['Y','YES','y','yes','ok']\n",
    "\n",
    "while True:\n",
    "    for i in range(10):\n",
    "        s = int(input(\"Your number: \"))\n",
    "        if s>n:\n",
    "            print(\"Too high!\")\n",
    "        elif s<n:\n",
    "            print(\"Too low!\")\n",
    "        else:\n",
    "            print(\"You guessed it right!\")\n",
    "            break\n",
    "    play_again = input(\"You lost. Want to play again?: \")\n",
    "    if play_again not in restart:\n",
    "        print(\"Thank you for playing!\")\n",
    "        break\n",
    "\n"
   ]
  },
  {
   "cell_type": "code",
   "execution_count": 99,
   "metadata": {},
   "outputs": [
    {
     "name": "stdout",
     "output_type": "stream",
     "text": [
      "Password must contain an uppercase letter\n"
     ]
    }
   ],
   "source": [
    "#5\n",
    "password = input(\"Enter password: \")\n",
    "upper = any(char.isupper() for char in password)\n",
    "if len(password) < 8:\n",
    "    print(\"Password is too short\")\n",
    "elif not upper:\n",
    "    print(\"Password must contain an uppercase letter\")\n",
    "else:\n",
    "    print(\"Password is strong\")"
   ]
  },
  {
   "cell_type": "code",
   "execution_count": 104,
   "metadata": {},
   "outputs": [
    {
     "name": "stdout",
     "output_type": "stream",
     "text": [
      "2\n",
      "3\n",
      "5\n",
      "7\n",
      "11\n",
      "13\n",
      "17\n",
      "19\n",
      "23\n",
      "29\n",
      "31\n",
      "37\n",
      "41\n",
      "43\n",
      "47\n",
      "53\n",
      "59\n",
      "61\n",
      "67\n",
      "71\n",
      "73\n",
      "79\n",
      "83\n",
      "89\n",
      "97\n"
     ]
    }
   ],
   "source": [
    "#6\n",
    "for i in range(2,101):\n",
    "    is_prime = True\n",
    "    for j in range(2,int(i**0.5)+1):\n",
    "        if i%j == 0:\n",
    "            is_prime = False\n",
    "            break\n",
    "    if is_prime:\n",
    "        print(i)\n"
   ]
  },
  {
   "cell_type": "code",
   "execution_count": 108,
   "metadata": {},
   "outputs": [
    {
     "name": "stdout",
     "output_type": "stream",
     "text": [
      "Computer wins!\n",
      "Score Player: 0, Score Computer: 1\n",
      "\n",
      "Computer wins !\n",
      "Computer wins!\n",
      "Score Player: 0, Score Computer: 2\n",
      "\n",
      "Computer wins !\n",
      "Computer wins!\n",
      "Score Player: 0, Score Computer: 3\n",
      "\n",
      "Computer wins !\n",
      "Computer wins!\n",
      "Score Player: 0, Score Computer: 4\n",
      "\n",
      "Computer wins !\n",
      "Computer wins!\n",
      "Score Player: 0, Score Computer: 5\n",
      "\n",
      "Computer wins !\n"
     ]
    }
   ],
   "source": [
    "\n",
    "game_elements = ['rock', 'paper', 'scissors']\n",
    "\n",
    "\n",
    "score_comp = 0\n",
    "score_player = 0\n",
    "while score_comp < 5 and score_player < 5:\n",
    "    player_choice = input(\"Choice: \").lower()\n",
    "    computer_choice = random.choice(game_elements)\n",
    "\n",
    "    if player_choice == computer_choice :\n",
    "        print(\"It's a draw!\")\n",
    "    elif (player_choice == 'rock' and computer_choice == 'scissors') or \\\n",
    "         (player_choice == 'paper' and computer_choice == 'rock') or \\\n",
    "         (player_choice == 'scissors' and computer_choice == 'paper'):\n",
    "        print(\"Player wins!\")\n",
    "        score_player +=1\n",
    "    else:\n",
    "        print(\"Computer wins!\")\n",
    "        score_comp +=1\n",
    "    print(f\"Score Player: {score_player}, Score Computer: {score_comp}\\n\")\n",
    "\n",
    "    if score_player == 5:\n",
    "        print(\"Congratulations! \")\n",
    "    else: print(\"Computer wins !\")\n",
    "\n"
   ]
  },
  {
   "cell_type": "code",
   "execution_count": null,
   "metadata": {},
   "outputs": [],
   "source": []
  }
 ],
 "metadata": {
  "kernelspec": {
   "display_name": "Python 3",
   "language": "python",
   "name": "python3"
  },
  "language_info": {
   "codemirror_mode": {
    "name": "ipython",
    "version": 3
   },
   "file_extension": ".py",
   "mimetype": "text/x-python",
   "name": "python",
   "nbconvert_exporter": "python",
   "pygments_lexer": "ipython3",
   "version": "3.12.8"
  }
 },
 "nbformat": 4,
 "nbformat_minor": 2
}
