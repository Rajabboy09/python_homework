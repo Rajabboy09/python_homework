{
 "cells": [
  {
   "cell_type": "code",
   "execution_count": 6,
   "metadata": {},
   "outputs": [
    {
     "name": "stdout",
     "output_type": "stream",
     "text": [
      "3.0\n",
      "Denominator cannot be zero.\n"
     ]
    }
   ],
   "source": [
    "def check(func):\n",
    "    def wrapper(a,b):\n",
    "        if b==0:\n",
    "            raise ValueError(\"Denominator cannot be zero.\")\n",
    "        return func(a,b)\n",
    "    return wrapper\n",
    "@check\n",
    "def div(a,b):\n",
    "    return a / b\n",
    "try:\n",
    "    print(div(6,2))\n",
    "    print(div(6,0))\n",
    "except ValueError as e:\n",
    "    print(e)"
   ]
  },
  {
   "cell_type": "code",
   "execution_count": 2,
   "metadata": {},
   "outputs": [
    {
     "name": "stdout",
     "output_type": "stream",
     "text": [
      "Added successfully!\n"
     ]
    },
    {
     "data": {
      "text/plain": [
       "['1,1,1,12,2,2,24,4,4,4 \\n', '6,6,6,6 \\n']"
      ]
     },
     "execution_count": 2,
     "metadata": {},
     "output_type": "execute_result"
    }
   ],
   "source": [
    "def add_employee():\n",
    "    emp_id = input(\"Enter Employee ID: \")\n",
    "    name = input(\"Enter Employee Name: \")\n",
    "    position = input(\"Enter Employee Position: \")\n",
    "    salary = input(\"Enter Employee Salary: \")\n",
    "    with open(\"employees.txt\",'a') as file:\n",
    "        file.write(f\"{emp_id},{name},{position},{salary} \\n\")\n",
    "        file.close()\n",
    "    print(\"Added successfully!\")\n",
    "\n",
    "def view_employee():\n",
    "    with open(\"employees.txt\", \"r\") as file:\n",
    "        records = file.readlines()\n",
    "        file.close()\n",
    "    return records\n",
    "def search_employee():\n",
    "    emp_id = input(\"Enter Employee ID to search: \")\n",
    "    with open(\"employees.txt\",\"r\") as file:\n",
    "        records = file.readlines()\n",
    "    for record in records:\n",
    "        if record.startswith(emp_id):\n",
    "            print(\"Employee found:\")\n",
    "            print(record.strip())\n",
    "            file.close()\n",
    "            return\n",
    "    print(\"Employee not found.\")\n",
    "def update_employee():\n",
    "    emp_id = input(\"Enter Employee ID to update: \")\n",
    "    with open(\"employees.txt\", \"r\") as file:\n",
    "        records = file.readlines()\n",
    "    update = False\n",
    "    with open(\"employees.txt\", 'a') as file:\n",
    "        for record in records:\n",
    "            if record.startswith(emp_id):\n",
    "                print(\"Employer Found. Enter new details: \")\n",
    "                name = input(\"Enter New Name: \")\n",
    "                position = input(\"Enter New Position: \")\n",
    "                salary = input(\"Enter New Salary:\" )\n",
    "                file.write(f\"{emp_id},{name},{position},{salary} \\n\")\n",
    "                update = True\n",
    "                file.close()\n",
    "            else:\n",
    "                file.write(record)\n",
    "    if update:\n",
    "        print(\"Employee record updated \")\n",
    "    else:\n",
    "        print(\"Employee not found\")\n",
    "\n",
    "add_employee()\n",
    "view_employee()\n",
    "\n",
    "# def menu():\n",
    "#     while True:\n",
    "#         print(\"\\nMenu:\")\n",
    "#         print(\"1. Add new employee record\")\n",
    "#         print(\"2. View all employee records\")\n",
    "#         print(\"3. Search for an employee by Employee ID\")\n",
    "#         print(\"4. Update an employee's information\")\n",
    "#         print(\"5. Delete an employee record\")\n",
    "#         print(\"6. Exit\")\n",
    "#         choice = input(\"Enter your choice (1-6): \")\n",
    "#         if choice == \"1\":\n",
    "#             add_employee()\n",
    "#         elif choice == \"2\":\n",
    "#             view_employees()\n",
    "#         elif choice == \"3\":\n",
    "#             search_employee()\n",
    "#         elif choice == \"4\":\n",
    "#             update_employee()\n",
    "#         elif choice == \"5\":\n",
    "#             delete_employee()\n",
    "#         elif choice == \"6\":\n",
    "#             print(\"Exiting program. Goodbye!\")\n",
    "#             break\n",
    "#         else:\n",
    "#             print(\"Invalid choice. Please try again.\")"
   ]
  },
  {
   "cell_type": "code",
   "execution_count": null,
   "metadata": {},
   "outputs": [],
   "source": []
  }
 ],
 "metadata": {
  "kernelspec": {
   "display_name": "Python 3",
   "language": "python",
   "name": "python3"
  },
  "language_info": {
   "codemirror_mode": {
    "name": "ipython",
    "version": 3
   },
   "file_extension": ".py",
   "mimetype": "text/x-python",
   "name": "python",
   "nbconvert_exporter": "python",
   "pygments_lexer": "ipython3",
   "version": "3.12.8"
  }
 },
 "nbformat": 4,
 "nbformat_minor": 2
}
