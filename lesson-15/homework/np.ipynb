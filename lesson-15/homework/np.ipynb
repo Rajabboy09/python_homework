{
 "cells": [
  {
   "cell_type": "code",
   "execution_count": 1,
   "metadata": {},
   "outputs": [],
   "source": [
    "import numpy as np"
   ]
  },
  {
   "cell_type": "code",
   "execution_count": 5,
   "metadata": {},
   "outputs": [
    {
     "data": {
      "text/plain": [
       "array([10, 11, 12, 13, 14, 15, 16, 17, 18, 19, 20, 21, 22, 23, 24, 25, 26,\n",
       "       27, 28, 29, 30, 31, 32, 33, 34, 35, 36, 37, 38, 39, 40, 41, 42, 43,\n",
       "       44, 45, 46, 47, 48, 49])"
      ]
     },
     "execution_count": 5,
     "metadata": {},
     "output_type": "execute_result"
    }
   ],
   "source": [
    "#1\n",
    "a = np.arange(10,50)\n",
    "a"
   ]
  },
  {
   "cell_type": "code",
   "execution_count": 8,
   "metadata": {},
   "outputs": [
    {
     "data": {
      "text/plain": [
       "array([[0, 1, 2],\n",
       "       [3, 4, 5],\n",
       "       [6, 7, 8]])"
      ]
     },
     "execution_count": 8,
     "metadata": {},
     "output_type": "execute_result"
    }
   ],
   "source": [
    "#2\n",
    "a = np.array([[0,1,2],\n",
    "             [3,4,5],\n",
    "             [6,7,8]])\n",
    "\n",
    "b = np.arange(9).reshape(3,3)\n"
   ]
  },
  {
   "cell_type": "code",
   "execution_count": 9,
   "metadata": {},
   "outputs": [
    {
     "data": {
      "text/plain": [
       "array([[1., 0., 0.],\n",
       "       [0., 1., 0.],\n",
       "       [0., 0., 1.]])"
      ]
     },
     "execution_count": 9,
     "metadata": {},
     "output_type": "execute_result"
    }
   ],
   "source": [
    "#3\n",
    "id_matrix = np.eye(3)\n",
    "id_matrix"
   ]
  },
  {
   "cell_type": "code",
   "execution_count": 13,
   "metadata": {},
   "outputs": [
    {
     "data": {
      "text/plain": [
       "array([[[0.10410581, 0.39818416, 0.59515708],\n",
       "        [0.4617328 , 0.7968797 , 0.77013744],\n",
       "        [0.69606027, 0.74897332, 0.91123263]],\n",
       "\n",
       "       [[0.42172287, 0.14639207, 0.70249699],\n",
       "        [0.19801811, 0.88693435, 0.56913853],\n",
       "        [0.36296923, 0.14628829, 0.00760863]],\n",
       "\n",
       "       [[0.40235319, 0.46618842, 0.32421861],\n",
       "        [0.25624724, 0.61468941, 0.21728426],\n",
       "        [0.47208957, 0.0337423 , 0.63144747]]])"
      ]
     },
     "execution_count": 13,
     "metadata": {},
     "output_type": "execute_result"
    }
   ],
   "source": [
    "#4\n",
    "arr_3_3_3 = np.random.random((3,3,3))\n",
    "arr_3_3_3"
   ]
  },
  {
   "cell_type": "code",
   "execution_count": 18,
   "metadata": {},
   "outputs": [
    {
     "name": "stdout",
     "output_type": "stream",
     "text": [
      "[[0.22809061 0.54843696 0.47403463 0.71792572 0.29458986 0.76871971\n",
      "  0.46796233 0.91188824 0.72134747 0.5961815 ]\n",
      " [0.74043539 0.89401379 0.07658555 0.56613425 0.47939434 0.93603513\n",
      "  0.53026972 0.50007924 0.37630866 0.0055796 ]\n",
      " [0.63858996 0.31415771 0.84338225 0.40773114 0.44875599 0.03078545\n",
      "  0.06730274 0.19273341 0.59738721 0.87666253]\n",
      " [0.02693564 0.63526501 0.96791003 0.26252746 0.60321026 0.23652227\n",
      "  0.9101541  0.98836879 0.89145143 0.88174196]\n",
      " [0.62361409 0.71466275 0.96260946 0.97915366 0.15863544 0.52171974\n",
      "  0.91831078 0.88680236 0.71708032 0.50255152]\n",
      " [0.89241962 0.6476054  0.95049174 0.10949682 0.0599474  0.58462001\n",
      "  0.16867396 0.05196829 0.81692968 0.21870904]\n",
      " [0.12947252 0.10438785 0.13170333 0.97071328 0.30827509 0.64848503\n",
      "  0.78706058 0.19854913 0.84648234 0.90121792]\n",
      " [0.23836856 0.71420421 0.95065993 0.35319291 0.73330789 0.44367205\n",
      "  0.22723673 0.79863329 0.46968259 0.85907001]\n",
      " [0.38596619 0.94093048 0.91122374 0.64892823 0.74949341 0.28770406\n",
      "  0.2485604  0.69913072 0.76643209 0.12146981]\n",
      " [0.19400474 0.93890173 0.45047762 0.60635777 0.83978602 0.30534182\n",
      "  0.77687703 0.5432114  0.21402308 0.20661827]]\n",
      "0.005579597114888091\n",
      "0.9883687902042834\n"
     ]
    }
   ],
   "source": [
    "#5\n",
    "array_10x10 = np.random.random((10, 10))\n",
    "min_value = np.min(array_10x10)\n",
    "max_value = np.max(array_10x10)\n",
    "\n",
    "print(array_10x10)\n",
    "print(min_value)\n",
    "print(max_value)"
   ]
  },
  {
   "cell_type": "code",
   "execution_count": 19,
   "metadata": {},
   "outputs": [
    {
     "name": "stdout",
     "output_type": "stream",
     "text": [
      "[0.8164262  0.96359567 0.0579238  0.89737163 0.70724731 0.82922086\n",
      " 0.32323207 0.48195419 0.32540812 0.76190218 0.87744599 0.51806495\n",
      " 0.80264064 0.82006563 0.97315079 0.09412331 0.38288172 0.40478852\n",
      " 0.28248091 0.46316517 0.51496062 0.50690699 0.21023602 0.98846175\n",
      " 0.75503495 0.05622806 0.29199847 0.05339995 0.16887682 0.00808051]\n",
      "0.5112424590269009\n"
     ]
    }
   ],
   "source": [
    "#6\n",
    "random_vector_30 = np.random.random(30)\n",
    "mean_value = np.mean(random_vector_30)\n",
    "print(random_vector_30)\n",
    "print(mean_value)"
   ]
  },
  {
   "cell_type": "code",
   "execution_count": 23,
   "metadata": {},
   "outputs": [
    {
     "name": "stdout",
     "output_type": "stream",
     "text": [
      "[[0.96104523 0.27317965 0.87615341 0.28358872 0.71004568]\n",
      " [0.42477323 0.95953813 0.67746852 0.35527881 0.40210452]\n",
      " [0.0724734  0.79222666 0.07534244 0.0247963  0.46919753]\n",
      " [0.61837802 0.95117751 0.60423687 0.52114479 0.16052438]\n",
      " [0.67237017 0.55047276 0.57482846 0.22681583 0.10198913]]\n",
      "[[1.         0.26529627 0.90932772 0.27641411 0.73190938]\n",
      " [0.42721216 0.99839028 0.69711398 0.35298573 0.40299989]\n",
      " [0.05092353 0.81968623 0.05398793 0.         0.47466139]\n",
      " [0.63399989 0.98946037 0.61889584 0.53014585 0.14497007]\n",
      " [0.69166848 0.56147082 0.58748495 0.21577544 0.08244904]]\n"
     ]
    }
   ],
   "source": [
    "#7\n",
    "matrix_5x5 = np.random.random((5, 5))\n",
    "normalized_matrix  = (matrix_5x5 - np.min(matrix_5x5)) / (np.max(matrix_5x5)-np.min(matrix_5x5))\n",
    "print(matrix_5x5)\n",
    "print(normalized_matrix)"
   ]
  },
  {
   "cell_type": "code",
   "execution_count": 34,
   "metadata": {},
   "outputs": [
    {
     "name": "stdout",
     "output_type": "stream",
     "text": [
      "[[51 58]\n",
      " [53 57]\n",
      " [65 56]\n",
      " [59 52]\n",
      " [36 24]]\n"
     ]
    }
   ],
   "source": [
    "#8\n",
    "matirx_5x3 = np.random.randint(1,10, (5,3))\n",
    "matirx_3x2 = np.random.randint(1,10, (3,2))\n",
    "matrix_mult = np.dot(matirx_5x3, matirx_3x2)\n",
    "print(matrix_mult)"
   ]
  },
  {
   "cell_type": "code",
   "execution_count": 36,
   "metadata": {},
   "outputs": [
    {
     "name": "stdout",
     "output_type": "stream",
     "text": [
      "[[41 45 65]\n",
      " [33 40 42]\n",
      " [57 69 76]]\n"
     ]
    }
   ],
   "source": [
    "#9\n",
    "matrix_A = np.random.randint(1, 9, (3, 3))\n",
    "matrix_B = np.random.randint(1, 9, (3, 3))\n",
    "dot_product_3x3 = np.dot(matrix_A, matrix_B)\n",
    "print(dot_product_3x3)"
   ]
  },
  {
   "cell_type": "code",
   "execution_count": 28,
   "metadata": {},
   "outputs": [
    {
     "name": "stdout",
     "output_type": "stream",
     "text": [
      "[[1 1 9 6]\n",
      " [6 4 3 3]\n",
      " [1 2 8 2]\n",
      " [1 4 6 7]]\n",
      "[[1 6 1 1]\n",
      " [1 4 2 4]\n",
      " [9 3 8 6]\n",
      " [6 3 2 7]]\n"
     ]
    }
   ],
   "source": [
    "#10\n",
    "matrix_4x4 = np.random.randint(1,10,(4, 4))\n",
    "transpose_4x4 = matrix_4x4.T\n",
    "print(matrix_4x4)\n",
    "print(transpose_4x4)"
   ]
  },
  {
   "cell_type": "code",
   "execution_count": 44,
   "metadata": {},
   "outputs": [
    {
     "name": "stdout",
     "output_type": "stream",
     "text": [
      "130.00\n"
     ]
    }
   ],
   "source": [
    "#11\n",
    "\n",
    "matrix_4x4_det = np.random.randint(1,10,(4,4))\n",
    "cal_det = np.linalg.det(matrix_4x4_det)\n",
    "print(f\"{cal_det:.2f}\")"
   ]
  },
  {
   "cell_type": "code",
   "execution_count": 47,
   "metadata": {},
   "outputs": [
    {
     "name": "stdout",
     "output_type": "stream",
     "text": [
      "[[1.21870666 1.13562766 0.31575438]\n",
      " [1.07426725 1.03585019 0.27438771]\n",
      " [1.36670588 1.38967222 0.34258954]]\n"
     ]
    }
   ],
   "source": [
    "#12\n",
    "matrix_A_3x4 = np.random.random((3, 4))\n",
    "matrix_B_4x3 = np.random.random((4, 3))\n",
    "matrix_product_A_B = np.dot(matrix_A_3x4, matrix_B_4x3)\n",
    "print(matrix_product_A_B)"
   ]
  },
  {
   "cell_type": "code",
   "execution_count": 51,
   "metadata": {},
   "outputs": [
    {
     "name": "stdout",
     "output_type": "stream",
     "text": [
      "[[1.23313851]\n",
      " [0.73560146]\n",
      " [0.98281404]]\n"
     ]
    }
   ],
   "source": [
    "#13\n",
    "matrix_3x3_rand = np.random.random((3, 3))\n",
    "vector_3x1 = np.random.random((3, 1))\n",
    "matrix_vector_product = np.dot(matrix_3x3_rand, vector_3x1)\n",
    "print(matrix_vector_product)"
   ]
  },
  {
   "cell_type": "code",
   "execution_count": 52,
   "metadata": {},
   "outputs": [
    {
     "name": "stdout",
     "output_type": "stream",
     "text": [
      "[[  0.96969011]\n",
      " [-26.52841891]\n",
      " [ 37.81260289]]\n"
     ]
    }
   ],
   "source": [
    "#14\n",
    "A = np.random.random((3, 3))\n",
    "b = np.random.random((3, 1))\n",
    "x_solution = np.linalg.solve(A, b)\n",
    "print(x_solution)"
   ]
  },
  {
   "cell_type": "code",
   "execution_count": 56,
   "metadata": {},
   "outputs": [
    {
     "name": "stdout",
     "output_type": "stream",
     "text": [
      "[[6 1 3 1 7]\n",
      " [3 6 5 4 7]\n",
      " [1 7 2 9 2]\n",
      " [6 2 9 6 1]\n",
      " [2 5 6 9 7]] \n",
      "\n",
      "[18 25 21 24 29] \n",
      "\n",
      "[18 21 25 29 24]\n"
     ]
    }
   ],
   "source": [
    "#15\n",
    "matrix_5x5_sums = np.random.randint(1,10,(5, 5))\n",
    "print(matrix_5x5_sums, \"\\n\")\n",
    "row_sums = np.sum(matrix_5x5_sums, axis=1)\n",
    "print(row_sums, \"\\n\")\n",
    "column_sums = np.sum(matrix_5x5_sums, axis=0)\n",
    "print(column_sums)"
   ]
  },
  {
   "cell_type": "code",
   "execution_count": null,
   "metadata": {},
   "outputs": [],
   "source": []
  }
 ],
 "metadata": {
  "kernelspec": {
   "display_name": "Python 3",
   "language": "python",
   "name": "python3"
  },
  "language_info": {
   "codemirror_mode": {
    "name": "ipython",
    "version": 3
   },
   "file_extension": ".py",
   "mimetype": "text/x-python",
   "name": "python",
   "nbconvert_exporter": "python",
   "pygments_lexer": "ipython3",
   "version": "3.12.8"
  }
 },
 "nbformat": 4,
 "nbformat_minor": 2
}
