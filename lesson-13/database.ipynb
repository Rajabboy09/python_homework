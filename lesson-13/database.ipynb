{
 "cells": [
  {
   "cell_type": "code",
   "execution_count": 2,
   "metadata": {},
   "outputs": [],
   "source": [
    "import sqlite3"
   ]
  },
  {
   "cell_type": "code",
   "execution_count": 4,
   "metadata": {},
   "outputs": [
    {
     "ename": "OperationalError",
     "evalue": "database is locked",
     "output_type": "error",
     "traceback": [
      "\u001b[1;31m---------------------------------------------------------------------------\u001b[0m",
      "\u001b[1;31mOperationalError\u001b[0m                          Traceback (most recent call last)",
      "Cell \u001b[1;32mIn[4], line 15\u001b[0m\n\u001b[0;32m      3\u001b[0m     cursor\u001b[38;5;241m.\u001b[39mexecute(\n\u001b[0;32m      4\u001b[0m \u001b[38;5;250m        \u001b[39m\u001b[38;5;124;03m''' CREATE TABLE IF NOT EXISTS Roster (\u001b[39;00m\n\u001b[0;32m      5\u001b[0m \u001b[38;5;124;03m        Name TEXT,\u001b[39;00m\n\u001b[1;32m   (...)\u001b[0m\n\u001b[0;32m      8\u001b[0m \u001b[38;5;124;03m        )\u001b[39;00m\n\u001b[0;32m      9\u001b[0m \u001b[38;5;124;03m'''\u001b[39;00m)\n\u001b[0;32m     10\u001b[0m data \u001b[38;5;241m=\u001b[39m [\n\u001b[0;32m     11\u001b[0m     (\u001b[38;5;124m'\u001b[39m\u001b[38;5;124mBenjamin Sisko\u001b[39m\u001b[38;5;124m'\u001b[39m, \u001b[38;5;124m'\u001b[39m\u001b[38;5;124mHuman\u001b[39m\u001b[38;5;124m'\u001b[39m, \u001b[38;5;241m40\u001b[39m),\n\u001b[0;32m     12\u001b[0m     (\u001b[38;5;124m'\u001b[39m\u001b[38;5;124mJadzia Dax\u001b[39m\u001b[38;5;124m'\u001b[39m, \u001b[38;5;124m'\u001b[39m\u001b[38;5;124mTrill\u001b[39m\u001b[38;5;124m'\u001b[39m, \u001b[38;5;241m300\u001b[39m),\n\u001b[0;32m     13\u001b[0m     (\u001b[38;5;124m'\u001b[39m\u001b[38;5;124mKira Nerys\u001b[39m\u001b[38;5;124m'\u001b[39m, \u001b[38;5;124m'\u001b[39m\u001b[38;5;124mBajoran\u001b[39m\u001b[38;5;124m'\u001b[39m, \u001b[38;5;241m29\u001b[39m)\n\u001b[0;32m     14\u001b[0m     ]\n\u001b[1;32m---> 15\u001b[0m \u001b[43mcursor\u001b[49m\u001b[38;5;241;43m.\u001b[39;49m\u001b[43mexecutemany\u001b[49m\u001b[43m(\u001b[49m\u001b[38;5;124;43m'\u001b[39;49m\u001b[38;5;124;43mINSERT INTO Roster (Name, Species, Age) VALUES (?, ?, ?)\u001b[39;49m\u001b[38;5;124;43m'\u001b[39;49m\u001b[43m,\u001b[49m\u001b[43m \u001b[49m\u001b[43mdata\u001b[49m\u001b[43m)\u001b[49m\n\u001b[0;32m     16\u001b[0m cursor\u001b[38;5;241m.\u001b[39mexecute(\u001b[38;5;124m\"\u001b[39m\u001b[38;5;124mUPDATE Roster SET NAME = \u001b[39m\u001b[38;5;124m'\u001b[39m\u001b[38;5;124mEzri Dax\u001b[39m\u001b[38;5;124m'\u001b[39m\u001b[38;5;124m WHERE Name = \u001b[39m\u001b[38;5;124m'\u001b[39m\u001b[38;5;124mJadzia Dax\u001b[39m\u001b[38;5;124m'\u001b[39m\u001b[38;5;124m\"\u001b[39m)\n\u001b[0;32m     17\u001b[0m cursor\u001b[38;5;241m.\u001b[39mexecute(\u001b[38;5;124m\"\u001b[39m\u001b[38;5;124mSELECT Name, Age FROM Roster WHERE Species = \u001b[39m\u001b[38;5;124m'\u001b[39m\u001b[38;5;124mBajoran\u001b[39m\u001b[38;5;124m'\u001b[39m\u001b[38;5;124m\"\u001b[39m)\n",
      "\u001b[1;31mOperationalError\u001b[0m: database is locked"
     ]
    }
   ],
   "source": [
    "with sqlite3.connect(\"roster.db\") as con:\n",
    "    cursor = con.cursor()\n",
    "    cursor.execute(\n",
    "        ''' CREATE TABLE IF NOT EXISTS Roster (\n",
    "        Name TEXT,\n",
    "        Species TEXT,\n",
    "        Age INTEGER\n",
    "        )\n",
    "''')\n",
    "data = [\n",
    "    ('Benjamin Sisko', 'Human', 40),\n",
    "    ('Jadzia Dax', 'Trill', 300),\n",
    "    ('Kira Nerys', 'Bajoran', 29)\n",
    "    ]\n",
    "cursor.executemany('INSERT INTO Roster (Name, Species, Age) VALUES (?, ?, ?)', data)\n",
    "cursor.execute(\"UPDATE Roster SET NAME = 'Ezri Dax' WHERE Name = 'Jadzia Dax'\")\n",
    "cursor.execute(\"SELECT Name, Age FROM Roster WHERE Species = 'Bajoran'\")\n",
    "bajoran_characters = cursor.fetchall()\n",
    "\n",
    "\n",
    "cursor.execute(\"DELETE FROM Roster WHERE Age > 100\")\n",
    "\n",
    "cursor.execute(\"ALTER TABLE Roster ADD COLUMN Rank TEXT\")\n",
    "\n",
    "rank_data = [\n",
    "    ('Benjamin Sisko', 'Captain'),\n",
    "    ('Ezri Dax','Lieutenant'),\n",
    "    ('Kira Nerys', 'Major')\n",
    "]\n",
    "for name, rank in rank_data:\n",
    "    cursor.execute(\"UPDATE Roster SET Rank = ? WHERE Name = ?\", (rank, name))\n",
    "\n",
    "cursor.execute(\"SELECT Name, species, Age, Rank FROM Roster ORDER BY Age DESC\")\n",
    "sorted_characters = cursor.fetchall()\n",
    "\n",
    "con.commit()\n",
    "\n",
    "print(bajoran_characters)\n",
    "print(\"Sorted by age:\")\n",
    "for character in sorted_characters:\n",
    "    print(character)\n",
    "con.close()\n",
    "\n",
    "\n",
    "\n",
    "    "
   ]
  },
  {
   "cell_type": "code",
   "execution_count": null,
   "metadata": {},
   "outputs": [],
   "source": []
  }
 ],
 "metadata": {
  "kernelspec": {
   "display_name": "Python 3",
   "language": "python",
   "name": "python3"
  },
  "language_info": {
   "codemirror_mode": {
    "name": "ipython",
    "version": 3
   },
   "file_extension": ".py",
   "mimetype": "text/x-python",
   "name": "python",
   "nbconvert_exporter": "python",
   "pygments_lexer": "ipython3",
   "version": "3.12.8"
  }
 },
 "nbformat": 4,
 "nbformat_minor": 2
}
