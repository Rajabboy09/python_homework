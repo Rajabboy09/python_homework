{
 "cells": [
  {
   "cell_type": "code",
   "execution_count": 1,
   "metadata": {},
   "outputs": [
    {
     "name": "stdout",
     "output_type": "stream",
     "text": [
      "Temperatures in Celsius: [  0.          20.          37.77777778 100.          25.        ]\n"
     ]
    }
   ],
   "source": [
    "#1\n",
    "import numpy as np\n",
    "\n",
    "# Function to convert Fahrenheit to Celsius\n",
    "def fahrenheit_to_celsius(f):\n",
    "    return (f - 32) * 5 / 9\n",
    "\n",
    "# Vectorize the function\n",
    "vectorized_conversion = np.vectorize(fahrenheit_to_celsius)\n",
    "\n",
    "# Array of temperatures in Fahrenheit\n",
    "fahrenheit_temps = np.array([32, 68, 100, 212, 77])\n",
    "\n",
    "# Convert the temperatures to Celsius\n",
    "celsius_temps = vectorized_conversion(fahrenheit_temps)\n",
    "\n",
    "# Print the result\n",
    "print(\"Temperatures in Celsius:\", celsius_temps)\n"
   ]
  },
  {
   "cell_type": "code",
   "execution_count": 2,
   "metadata": {},
   "outputs": [
    {
     "name": "stdout",
     "output_type": "stream",
     "text": [
      "Results of base^exponent for each pair: [  2   9  64 625]\n"
     ]
    }
   ],
   "source": [
    "#2\n",
    "import numpy as np\n",
    "\n",
    "# Define the custom function to calculate power\n",
    "def calculate_power(base, exponent):\n",
    "    return base ** exponent\n",
    "\n",
    "# Vectorize the custom function\n",
    "vectorized_power = np.vectorize(calculate_power)\n",
    "\n",
    "# Arrays of numbers and their respective powers\n",
    "bases = np.array([2, 3, 4, 5])\n",
    "exponents = np.array([1, 2, 3, 4])\n",
    "\n",
    "# Calculate the power for each pair\n",
    "results = vectorized_power(bases, exponents)\n",
    "\n",
    "# Print the results\n",
    "print(\"Results of base^exponent for each pair:\", results)"
   ]
  },
  {
   "cell_type": "code",
   "execution_count": 3,
   "metadata": {},
   "outputs": [
    {
     "name": "stdout",
     "output_type": "stream",
     "text": [
      "Solution (x, y, z): [ 1.7027027   0.62162162 -0.48648649]\n"
     ]
    }
   ],
   "source": [
    "#3\n",
    "import numpy as np\n",
    "\n",
    "# Coefficient matrix A\n",
    "A = np.array([\n",
    "    [4, 5, 6],\n",
    "    [3, -1, 1],\n",
    "    [2, 1, -2]\n",
    "])\n",
    "\n",
    "# Right-hand side matrix B\n",
    "B = np.array([7, 4, 5])\n",
    "\n",
    "# Solve for X\n",
    "X = np.linalg.solve(A, B)\n",
    "\n",
    "# Print the solution\n",
    "print(\"Solution (x, y, z):\", X)\n"
   ]
  },
  {
   "cell_type": "code",
   "execution_count": 4,
   "metadata": {},
   "outputs": [
    {
     "name": "stdout",
     "output_type": "stream",
     "text": [
      "Currents (I1, I2, I3): [ 0.48963731 -0.2253886   2.21761658]\n"
     ]
    }
   ],
   "source": [
    "#4\n",
    "import numpy as np\n",
    "\n",
    "# Coefficient matrix A\n",
    "A = np.array([\n",
    "    [10, -2, 3],\n",
    "    [-2, 8, -1],\n",
    "    [3, -1, 6]\n",
    "])\n",
    "\n",
    "# Right-hand side vector B\n",
    "B = np.array([12, -5, 15])\n",
    "\n",
    "# Solve for currents (I1, I2, I3)\n",
    "currents = np.linalg.solve(A, B)\n",
    "\n",
    "# Print the solution\n",
    "print(\"Currents (I1, I2, I3):\", currents)\n"
   ]
  },
  {
   "cell_type": "code",
   "execution_count": 6,
   "metadata": {},
   "outputs": [
    {
     "name": "stdout",
     "output_type": "stream",
     "text": [
      "Image manipulations complete. Files saved!\n"
     ]
    }
   ],
   "source": [
    "from PIL import Image\n",
    "import numpy as np\n",
    "\n",
    "# Load the image using PIL and convert it to a NumPy array\n",
    "image_path = \"images/birds.jpg\"\n",
    "image = Image.open(image_path)\n",
    "image_array = np.array(image)\n",
    "\n",
    "# Flip the image horizontally and vertically\n",
    "flipped_horizontally = np.flip(image_array, axis=1)  # Left-to-right flip\n",
    "flipped_vertically = np.flip(image_array, axis=0)    # Top-to-bottom flip\n",
    "\n",
    "# Add random noise to the image\n",
    "noise = np.random.randint(0, 50, image_array.shape, dtype=np.uint8)  # Random noise\n",
    "noisy_image = np.clip(image_array + noise, 0, 255).astype(np.uint8)\n",
    "\n",
    "# Brighten the red channel by a fixed value\n",
    "brightened_image = image_array.copy()\n",
    "brightened_image[..., 0] = np.clip(brightened_image[..., 0] + 40, 0, 255)  # Red channel\n",
    "\n",
    "# Apply a mask to a rectangular region (100x100 area in the center)\n",
    "masked_image = image_array.copy()\n",
    "height, width, _ = masked_image.shape\n",
    "center_x, center_y = width // 2, height // 2\n",
    "mask_size = 100\n",
    "start_x, start_y = center_x - mask_size // 2, center_y - mask_size // 2\n",
    "end_x, end_y = start_x + mask_size, start_y + mask_size\n",
    "masked_image[start_y:end_y, start_x:end_x] = 0  # Set to black (0, 0, 0)\n",
    "\n",
    "# Save the results using PIL\n",
    "Image.fromarray(flipped_horizontally).save(\"flipped_horizontally.jpg\")\n",
    "Image.fromarray(flipped_vertically).save(\"flipped_vertically.jpg\")\n",
    "Image.fromarray(noisy_image).save(\"noisy_image.jpg\")\n",
    "Image.fromarray(brightened_image).save(\"brightened_image.jpg\")\n",
    "Image.fromarray(masked_image).save(\"masked_image.jpg\")\n",
    "\n",
    "print(\"Image manipulations complete. Files saved!\")\n"
   ]
  },
  {
   "cell_type": "code",
   "execution_count": 7,
   "metadata": {},
   "outputs": [
    {
     "name": "stdout",
     "output_type": "stream",
     "text": [
      "Image manipulations complete. Files saved!\n"
     ]
    }
   ],
   "source": [
    "#Bonus\n",
    "from PIL import Image\n",
    "import numpy as np\n",
    "\n",
    "def flip_image(image_array, direction=\"horizontal\"):\n",
    "    \"\"\"\n",
    "    Flip the image horizontally or vertically.\n",
    "    direction: 'horizontal' or 'vertical'\n",
    "    \"\"\"\n",
    "    if direction == \"horizontal\":\n",
    "        return np.flip(image_array, axis=1)\n",
    "    elif direction == \"vertical\":\n",
    "        return np.flip(image_array, axis=0)\n",
    "    else:\n",
    "        raise ValueError(\"Invalid direction. Choose 'horizontal' or 'vertical'.\")\n",
    "\n",
    "def add_noise(image_array, noise_level=50):\n",
    "    \"\"\"\n",
    "    Add random noise to the image.\n",
    "    noise_level: Maximum value for random noise.\n",
    "    \"\"\"\n",
    "    noise = np.random.randint(0, noise_level, image_array.shape, dtype=np.uint8)\n",
    "    return np.clip(image_array + noise, 0, 255).astype(np.uint8)\n",
    "\n",
    "def brighten_channels(image_array, channel=0, value=40):\n",
    "    \"\"\"\n",
    "    Brighten a specific channel by a fixed value.\n",
    "    channel: 0 (red), 1 (green), 2 (blue).\n",
    "    value: Brightness increment.\n",
    "    \"\"\"\n",
    "    brightened_image = image_array.copy()\n",
    "    brightened_image[..., channel] = np.clip(brightened_image[..., channel] + value, 0, 255)\n",
    "    return brightened_image\n",
    "\n",
    "def apply_mask(image_array, mask_size=100):\n",
    "    \"\"\"\n",
    "    Apply a black mask to a rectangular region in the center of the image.\n",
    "    mask_size: Size of the rectangular mask (mask_size x mask_size).\n",
    "    \"\"\"\n",
    "    masked_image = image_array.copy()\n",
    "    height, width, _ = masked_image.shape\n",
    "    center_x, center_y = width // 2, height // 2\n",
    "    start_x, start_y = center_x - mask_size // 2, center_y - mask_size // 2\n",
    "    end_x, end_y = start_x + mask_size, start_y + mask_size\n",
    "    masked_image[start_y:end_y, start_x:end_x] = 0\n",
    "    return masked_image\n",
    "\n",
    "# Main script\n",
    "def main():\n",
    "    # Load the image using PIL\n",
    "    image_path = \"images/birds.jpg\"\n",
    "    image = Image.open(image_path)\n",
    "    image_array = np.array(image)\n",
    "\n",
    "    # Perform manipulations\n",
    "    flipped_horizontally = flip_image(image_array, direction=\"horizontal\")\n",
    "    flipped_vertically = flip_image(image_array, direction=\"vertical\")\n",
    "    noisy_image = add_noise(image_array, noise_level=50)\n",
    "    brightened_image = brighten_channels(image_array, channel=0, value=40)\n",
    "    masked_image = apply_mask(image_array, mask_size=100)\n",
    "\n",
    "    # Save results\n",
    "    Image.fromarray(flipped_horizontally).save(\"flipped_horizontally.jpg\")\n",
    "    Image.fromarray(flipped_vertically).save(\"flipped_vertically.jpg\")\n",
    "    Image.fromarray(noisy_image).save(\"noisy_image.jpg\")\n",
    "    Image.fromarray(brightened_image).save(\"brightened_image.jpg\")\n",
    "    Image.fromarray(masked_image).save(\"masked_image.jpg\")\n",
    "\n",
    "    print(\"Image manipulations complete. Files saved!\")\n",
    "\n",
    "if __name__ == \"__main__\":\n",
    "    main()\n"
   ]
  },
  {
   "cell_type": "code",
   "execution_count": null,
   "metadata": {},
   "outputs": [],
   "source": []
  }
 ],
 "metadata": {
  "kernelspec": {
   "display_name": "Python 3",
   "language": "python",
   "name": "python3"
  },
  "language_info": {
   "codemirror_mode": {
    "name": "ipython",
    "version": 3
   },
   "file_extension": ".py",
   "mimetype": "text/x-python",
   "name": "python",
   "nbconvert_exporter": "python",
   "pygments_lexer": "ipython3",
   "version": "3.12.8"
  }
 },
 "nbformat": 4,
 "nbformat_minor": 2
}
