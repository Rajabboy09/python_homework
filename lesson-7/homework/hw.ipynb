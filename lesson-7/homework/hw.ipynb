{
 "cells": [
  {
   "cell_type": "code",
   "execution_count": 42,
   "metadata": {},
   "outputs": [],
   "source": [
    "#1\n",
    "class Vector:\n",
    "    def __init__(self, *points):\n",
    "        self.points = points\n",
    "    \n",
    "    def __repr__(self):\n",
    "        return f\"Vector{self.points}\"\n",
    "    \n",
    "    def __add__(self, other):\n",
    "        return Vector(*(a+b for a,b in zip(self.points, other.points)))\n",
    "    \n",
    "    def __sub__(self, other):\n",
    "        return Vector(*(a-b for a,b in zip(self.points, other.points)))\n",
    "    \n",
    "    def __mul__(self, other):\n",
    "        return sum(a*b for a,b in zip(self.points, other.points))\n",
    "    def __scalar__(self, scalar):\n",
    "        return Vector(a*scalar for a in self.points)\n"
   ]
  },
  {
   "cell_type": "code",
   "execution_count": 44,
   "metadata": {},
   "outputs": [
    {
     "ename": "TypeError",
     "evalue": "unsupported operand type(s) for *: 'int' and 'Vector'",
     "output_type": "error",
     "traceback": [
      "\u001b[1;31m---------------------------------------------------------------------------\u001b[0m",
      "\u001b[1;31mTypeError\u001b[0m                                 Traceback (most recent call last)",
      "Cell \u001b[1;32mIn[44], line 6\u001b[0m\n\u001b[0;32m      4\u001b[0m v4\u001b[38;5;241m=\u001b[39mv1\u001b[38;5;241m+\u001b[39mv2\u001b[38;5;241m+\u001b[39mv3\n\u001b[0;32m      5\u001b[0m v5 \u001b[38;5;241m=\u001b[39m v1\u001b[38;5;241m*\u001b[39mv2\n\u001b[1;32m----> 6\u001b[0m v6 \u001b[38;5;241m=\u001b[39m \u001b[38;5;241;43m3\u001b[39;49m\u001b[43m \u001b[49m\u001b[38;5;241;43m*\u001b[39;49m\u001b[43m \u001b[49m\u001b[43mv1\u001b[49m\n",
      "\u001b[1;31mTypeError\u001b[0m: unsupported operand type(s) for *: 'int' and 'Vector'"
     ]
    }
   ],
   "source": [
    "v1 = Vector(1,2,3)\n",
    "v2 = Vector(4,5,6)\n",
    "v3 = Vector(2,2,2)\n",
    "v4=v1+v2+v3\n",
    "v5 = v1*v2\n",
    "v6 = 3 * v1"
   ]
  },
  {
   "cell_type": "code",
   "execution_count": 41,
   "metadata": {},
   "outputs": [
    {
     "name": "stdout",
     "output_type": "stream",
     "text": [
      "Vector(1, 2, 3)\n",
      "Vector(4, 5, 6)\n",
      "Vector(7, 9, 11)\n",
      "Vector(<generator object Vector.__mul__.<locals>.<genexpr> at 0x000001B8B8559BE0>,)\n"
     ]
    }
   ],
   "source": [
    "print(v1)\n",
    "print(v2)\n",
    "print(v4)\n",
    "print(v5)"
   ]
  },
  {
   "cell_type": "code",
   "execution_count": null,
   "metadata": {},
   "outputs": [],
   "source": []
  }
 ],
 "metadata": {
  "kernelspec": {
   "display_name": "Python 3",
   "language": "python",
   "name": "python3"
  },
  "language_info": {
   "codemirror_mode": {
    "name": "ipython",
    "version": 3
   },
   "file_extension": ".py",
   "mimetype": "text/x-python",
   "name": "python",
   "nbconvert_exporter": "python",
   "pygments_lexer": "ipython3",
   "version": "3.12.8"
  }
 },
 "nbformat": 4,
 "nbformat_minor": 2
}
