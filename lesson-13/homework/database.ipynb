{
 "cells": [
  {
   "cell_type": "code",
   "execution_count": 2,
   "metadata": {},
   "outputs": [],
   "source": [
    "import sqlite3"
   ]
  },
  {
   "cell_type": "markdown",
   "metadata": {},
   "source": [
    "TASK 1"
   ]
  },
  {
   "cell_type": "code",
   "execution_count": 3,
   "metadata": {},
   "outputs": [
    {
     "name": "stdout",
     "output_type": "stream",
     "text": [
      "[('Kira Nerys', 29)]\n",
      "Sorted by age:\n",
      "('Benjamin Sisko', 'Human', 40, 'Captain')\n",
      "('Kira Nerys', 'Bajoran', 29, 'Major')\n"
     ]
    }
   ],
   "source": [
    "with sqlite3.connect(\"roster.db\") as con:\n",
    "    cursor = con.cursor()\n",
    "    cursor.execute(\n",
    "        ''' CREATE TABLE IF NOT EXISTS Roster (\n",
    "        Name TEXT,\n",
    "        Species TEXT,\n",
    "        Age INTEGER\n",
    "        )\n",
    "''')\n",
    "data = [\n",
    "    ('Benjamin Sisko', 'Human', 40),\n",
    "    ('Jadzia Dax', 'Trill', 300),\n",
    "    ('Kira Nerys', 'Bajoran', 29)\n",
    "    ]\n",
    "cursor.executemany('INSERT INTO Roster (Name, Species, Age) VALUES (?, ?, ?)', data)\n",
    "cursor.execute(\"UPDATE Roster SET NAME = 'Ezri Dax' WHERE Name = 'Jadzia Dax'\")\n",
    "cursor.execute(\"SELECT Name, Age FROM Roster WHERE Species = 'Bajoran'\")\n",
    "bajoran_characters = cursor.fetchall()\n",
    "\n",
    "\n",
    "cursor.execute(\"DELETE FROM Roster WHERE Age > 100\")\n",
    "\n",
    "cursor.execute(\"ALTER TABLE Roster ADD COLUMN Rank TEXT\")\n",
    "\n",
    "rank_data = [\n",
    "    ('Benjamin Sisko', 'Captain'),\n",
    "    ('Ezri Dax','Lieutenant'),\n",
    "    ('Kira Nerys', 'Major')\n",
    "]\n",
    "for name, rank in rank_data:\n",
    "    cursor.execute(\"UPDATE Roster SET Rank = ? WHERE Name = ?\", (rank, name))\n",
    "\n",
    "cursor.execute(\"SELECT Name, species, Age, Rank FROM Roster ORDER BY Age DESC\")\n",
    "sorted_characters = cursor.fetchall()\n",
    "\n",
    "con.commit()\n",
    "\n",
    "print(bajoran_characters)\n",
    "print(\"Sorted by age:\")\n",
    "for character in sorted_characters:\n",
    "    print(character)\n",
    "con.close()\n",
    "\n",
    "\n",
    "\n",
    "    "
   ]
  },
  {
   "cell_type": "markdown",
   "metadata": {},
   "source": [
    "TASK 2"
   ]
  },
  {
   "cell_type": "code",
   "execution_count": null,
   "metadata": {},
   "outputs": [],
   "source": [
    "with sqlite3.connect('library.db') as conn:\n",
    "    cursor = conn.cursor()\n",
    "    cursor.execute(\n",
    "        ''' CREATE TABEL IF NOT EXISTS Library\n",
    "        (\n",
    "        Title TEXT,\n",
    "        Author TEXT,\n",
    "        Year_Published INTEGER,\n",
    "        Genre TEXT\n",
    "        ) \n",
    "\n",
    "'''\n",
    "    )\n",
    "    "
   ]
  }
 ],
 "metadata": {
  "kernelspec": {
   "display_name": "Python 3",
   "language": "python",
   "name": "python3"
  },
  "language_info": {
   "codemirror_mode": {
    "name": "ipython",
    "version": 3
   },
   "file_extension": ".py",
   "mimetype": "text/x-python",
   "name": "python",
   "nbconvert_exporter": "python",
   "pygments_lexer": "ipython3",
   "version": "3.12.8"
  }
 },
 "nbformat": 4,
 "nbformat_minor": 2
}
